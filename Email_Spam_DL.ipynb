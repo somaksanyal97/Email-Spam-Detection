{
  "cells": [
    {
      "cell_type": "code",
      "execution_count": 1,
      "metadata": {
        "colab": {
          "base_uri": "https://localhost:8080/"
        },
        "id": "0ElK5ZMEoMTu",
        "outputId": "05398f3f-13ea-4de7-98a2-de23ff566468"
      },
      "outputs": [
        {
          "output_type": "stream",
          "name": "stdout",
          "text": [
            "Drive already mounted at /content/drive; to attempt to forcibly remount, call drive.mount(\"/content/drive\", force_remount=True).\n"
          ]
        }
      ],
      "source": [
        "from google.colab import drive\n",
        "drive.mount('/content/drive')"
      ]
    },
    {
      "cell_type": "markdown",
      "metadata": {
        "id": "FFHjQccjglP4"
      },
      "source": [
        "# **Library Imports**"
      ]
    },
    {
      "cell_type": "code",
      "execution_count": 2,
      "metadata": {
        "colab": {
          "base_uri": "https://localhost:8080/"
        },
        "id": "62cF6xuafMO9",
        "outputId": "094d77aa-7134-4021-9988-e2efc20939ee"
      },
      "outputs": [
        {
          "output_type": "stream",
          "name": "stderr",
          "text": [
            "[nltk_data] Downloading package stopwords to /root/nltk_data...\n",
            "[nltk_data]   Unzipping corpora/stopwords.zip.\n"
          ]
        },
        {
          "output_type": "execute_result",
          "data": {
            "text/plain": [
              "True"
            ]
          },
          "metadata": {},
          "execution_count": 2
        }
      ],
      "source": [
        "import re #libray for regular expression\n",
        "import nltk\n",
        "nltk.download('stopwords')"
      ]
    },
    {
      "cell_type": "code",
      "execution_count": 3,
      "metadata": {
        "id": "1LNvLPdtBgPP"
      },
      "outputs": [],
      "source": [
        "import numpy as np\n",
        "import pandas as pd\n",
        "import tensorflow as tf\n",
        "from gensim.models import Word2Vec\n",
        "from nltk.corpus import stopwords\n",
        "from nltk.stem import PorterStemmer\n",
        "from tensorflow.keras.models import Sequential\n",
        "from tensorflow.keras.layers import Embedding, SimpleRNN, LSTM, GRU, Dense, Dropout, Bidirectional\n",
        "from tensorflow.keras.preprocessing.text import Tokenizer\n",
        "from tensorflow.keras.preprocessing.sequence import pad_sequences\n",
        "from sklearn.model_selection import train_test_split\n",
        "import matplotlib.pyplot as plt\n",
        "import seaborn as sns\n",
        "from sklearn.metrics import accuracy_score, precision_score, recall_score, f1_score, classification_report, confusion_matrix\n",
        "from imblearn.over_sampling import SMOTE\n"
      ]
    },
    {
      "cell_type": "markdown",
      "metadata": {
        "id": "0qoBauqmgsSK"
      },
      "source": [
        "# Loading Data"
      ]
    },
    {
      "cell_type": "code",
      "execution_count": 4,
      "metadata": {
        "id": "jtjzT0EjJJqx"
      },
      "outputs": [],
      "source": [
        "df = pd.read_csv('/content/drive/MyDrive/Github Projects/3. Spam Detection in Emails/completeSpamAssassin.csv')"
      ]
    },
    {
      "cell_type": "code",
      "execution_count": 5,
      "metadata": {
        "colab": {
          "base_uri": "https://localhost:8080/",
          "height": 206
        },
        "id": "zehsUHnJJOyR",
        "outputId": "e5e8bf6a-82c7-4142-a5da-f600d4e1bcf2"
      },
      "outputs": [
        {
          "output_type": "execute_result",
          "data": {
            "text/plain": [
              "   Unnamed: 0                                               Body  Label\n",
              "0           0  \\nSave up to 70% on Life Insurance.\\nWhy Spend...      1\n",
              "1           1  1) Fight The Risk of Cancer!\\nhttp://www.adcli...      1\n",
              "2           2  1) Fight The Risk of Cancer!\\nhttp://www.adcli...      1\n",
              "3           3  ##############################################...      1\n",
              "4           4  I thought you might like these:\\n1) Slim Down ...      1"
            ],
            "text/html": [
              "\n",
              "  <div id=\"df-d8269a6a-43fe-48b4-ace1-0c9ad24a487a\" class=\"colab-df-container\">\n",
              "    <div>\n",
              "<style scoped>\n",
              "    .dataframe tbody tr th:only-of-type {\n",
              "        vertical-align: middle;\n",
              "    }\n",
              "\n",
              "    .dataframe tbody tr th {\n",
              "        vertical-align: top;\n",
              "    }\n",
              "\n",
              "    .dataframe thead th {\n",
              "        text-align: right;\n",
              "    }\n",
              "</style>\n",
              "<table border=\"1\" class=\"dataframe\">\n",
              "  <thead>\n",
              "    <tr style=\"text-align: right;\">\n",
              "      <th></th>\n",
              "      <th>Unnamed: 0</th>\n",
              "      <th>Body</th>\n",
              "      <th>Label</th>\n",
              "    </tr>\n",
              "  </thead>\n",
              "  <tbody>\n",
              "    <tr>\n",
              "      <th>0</th>\n",
              "      <td>0</td>\n",
              "      <td>\\nSave up to 70% on Life Insurance.\\nWhy Spend...</td>\n",
              "      <td>1</td>\n",
              "    </tr>\n",
              "    <tr>\n",
              "      <th>1</th>\n",
              "      <td>1</td>\n",
              "      <td>1) Fight The Risk of Cancer!\\nhttp://www.adcli...</td>\n",
              "      <td>1</td>\n",
              "    </tr>\n",
              "    <tr>\n",
              "      <th>2</th>\n",
              "      <td>2</td>\n",
              "      <td>1) Fight The Risk of Cancer!\\nhttp://www.adcli...</td>\n",
              "      <td>1</td>\n",
              "    </tr>\n",
              "    <tr>\n",
              "      <th>3</th>\n",
              "      <td>3</td>\n",
              "      <td>##############################################...</td>\n",
              "      <td>1</td>\n",
              "    </tr>\n",
              "    <tr>\n",
              "      <th>4</th>\n",
              "      <td>4</td>\n",
              "      <td>I thought you might like these:\\n1) Slim Down ...</td>\n",
              "      <td>1</td>\n",
              "    </tr>\n",
              "  </tbody>\n",
              "</table>\n",
              "</div>\n",
              "    <div class=\"colab-df-buttons\">\n",
              "\n",
              "  <div class=\"colab-df-container\">\n",
              "    <button class=\"colab-df-convert\" onclick=\"convertToInteractive('df-d8269a6a-43fe-48b4-ace1-0c9ad24a487a')\"\n",
              "            title=\"Convert this dataframe to an interactive table.\"\n",
              "            style=\"display:none;\">\n",
              "\n",
              "  <svg xmlns=\"http://www.w3.org/2000/svg\" height=\"24px\" viewBox=\"0 -960 960 960\">\n",
              "    <path d=\"M120-120v-720h720v720H120Zm60-500h600v-160H180v160Zm220 220h160v-160H400v160Zm0 220h160v-160H400v160ZM180-400h160v-160H180v160Zm440 0h160v-160H620v160ZM180-180h160v-160H180v160Zm440 0h160v-160H620v160Z\"/>\n",
              "  </svg>\n",
              "    </button>\n",
              "\n",
              "  <style>\n",
              "    .colab-df-container {\n",
              "      display:flex;\n",
              "      gap: 12px;\n",
              "    }\n",
              "\n",
              "    .colab-df-convert {\n",
              "      background-color: #E8F0FE;\n",
              "      border: none;\n",
              "      border-radius: 50%;\n",
              "      cursor: pointer;\n",
              "      display: none;\n",
              "      fill: #1967D2;\n",
              "      height: 32px;\n",
              "      padding: 0 0 0 0;\n",
              "      width: 32px;\n",
              "    }\n",
              "\n",
              "    .colab-df-convert:hover {\n",
              "      background-color: #E2EBFA;\n",
              "      box-shadow: 0px 1px 2px rgba(60, 64, 67, 0.3), 0px 1px 3px 1px rgba(60, 64, 67, 0.15);\n",
              "      fill: #174EA6;\n",
              "    }\n",
              "\n",
              "    .colab-df-buttons div {\n",
              "      margin-bottom: 4px;\n",
              "    }\n",
              "\n",
              "    [theme=dark] .colab-df-convert {\n",
              "      background-color: #3B4455;\n",
              "      fill: #D2E3FC;\n",
              "    }\n",
              "\n",
              "    [theme=dark] .colab-df-convert:hover {\n",
              "      background-color: #434B5C;\n",
              "      box-shadow: 0px 1px 3px 1px rgba(0, 0, 0, 0.15);\n",
              "      filter: drop-shadow(0px 1px 2px rgba(0, 0, 0, 0.3));\n",
              "      fill: #FFFFFF;\n",
              "    }\n",
              "  </style>\n",
              "\n",
              "    <script>\n",
              "      const buttonEl =\n",
              "        document.querySelector('#df-d8269a6a-43fe-48b4-ace1-0c9ad24a487a button.colab-df-convert');\n",
              "      buttonEl.style.display =\n",
              "        google.colab.kernel.accessAllowed ? 'block' : 'none';\n",
              "\n",
              "      async function convertToInteractive(key) {\n",
              "        const element = document.querySelector('#df-d8269a6a-43fe-48b4-ace1-0c9ad24a487a');\n",
              "        const dataTable =\n",
              "          await google.colab.kernel.invokeFunction('convertToInteractive',\n",
              "                                                    [key], {});\n",
              "        if (!dataTable) return;\n",
              "\n",
              "        const docLinkHtml = 'Like what you see? Visit the ' +\n",
              "          '<a target=\"_blank\" href=https://colab.research.google.com/notebooks/data_table.ipynb>data table notebook</a>'\n",
              "          + ' to learn more about interactive tables.';\n",
              "        element.innerHTML = '';\n",
              "        dataTable['output_type'] = 'display_data';\n",
              "        await google.colab.output.renderOutput(dataTable, element);\n",
              "        const docLink = document.createElement('div');\n",
              "        docLink.innerHTML = docLinkHtml;\n",
              "        element.appendChild(docLink);\n",
              "      }\n",
              "    </script>\n",
              "  </div>\n",
              "\n",
              "\n",
              "<div id=\"df-230a0720-7c76-4c9e-8260-f272e301847b\">\n",
              "  <button class=\"colab-df-quickchart\" onclick=\"quickchart('df-230a0720-7c76-4c9e-8260-f272e301847b')\"\n",
              "            title=\"Suggest charts\"\n",
              "            style=\"display:none;\">\n",
              "\n",
              "<svg xmlns=\"http://www.w3.org/2000/svg\" height=\"24px\"viewBox=\"0 0 24 24\"\n",
              "     width=\"24px\">\n",
              "    <g>\n",
              "        <path d=\"M19 3H5c-1.1 0-2 .9-2 2v14c0 1.1.9 2 2 2h14c1.1 0 2-.9 2-2V5c0-1.1-.9-2-2-2zM9 17H7v-7h2v7zm4 0h-2V7h2v10zm4 0h-2v-4h2v4z\"/>\n",
              "    </g>\n",
              "</svg>\n",
              "  </button>\n",
              "\n",
              "<style>\n",
              "  .colab-df-quickchart {\n",
              "      --bg-color: #E8F0FE;\n",
              "      --fill-color: #1967D2;\n",
              "      --hover-bg-color: #E2EBFA;\n",
              "      --hover-fill-color: #174EA6;\n",
              "      --disabled-fill-color: #AAA;\n",
              "      --disabled-bg-color: #DDD;\n",
              "  }\n",
              "\n",
              "  [theme=dark] .colab-df-quickchart {\n",
              "      --bg-color: #3B4455;\n",
              "      --fill-color: #D2E3FC;\n",
              "      --hover-bg-color: #434B5C;\n",
              "      --hover-fill-color: #FFFFFF;\n",
              "      --disabled-bg-color: #3B4455;\n",
              "      --disabled-fill-color: #666;\n",
              "  }\n",
              "\n",
              "  .colab-df-quickchart {\n",
              "    background-color: var(--bg-color);\n",
              "    border: none;\n",
              "    border-radius: 50%;\n",
              "    cursor: pointer;\n",
              "    display: none;\n",
              "    fill: var(--fill-color);\n",
              "    height: 32px;\n",
              "    padding: 0;\n",
              "    width: 32px;\n",
              "  }\n",
              "\n",
              "  .colab-df-quickchart:hover {\n",
              "    background-color: var(--hover-bg-color);\n",
              "    box-shadow: 0 1px 2px rgba(60, 64, 67, 0.3), 0 1px 3px 1px rgba(60, 64, 67, 0.15);\n",
              "    fill: var(--button-hover-fill-color);\n",
              "  }\n",
              "\n",
              "  .colab-df-quickchart-complete:disabled,\n",
              "  .colab-df-quickchart-complete:disabled:hover {\n",
              "    background-color: var(--disabled-bg-color);\n",
              "    fill: var(--disabled-fill-color);\n",
              "    box-shadow: none;\n",
              "  }\n",
              "\n",
              "  .colab-df-spinner {\n",
              "    border: 2px solid var(--fill-color);\n",
              "    border-color: transparent;\n",
              "    border-bottom-color: var(--fill-color);\n",
              "    animation:\n",
              "      spin 1s steps(1) infinite;\n",
              "  }\n",
              "\n",
              "  @keyframes spin {\n",
              "    0% {\n",
              "      border-color: transparent;\n",
              "      border-bottom-color: var(--fill-color);\n",
              "      border-left-color: var(--fill-color);\n",
              "    }\n",
              "    20% {\n",
              "      border-color: transparent;\n",
              "      border-left-color: var(--fill-color);\n",
              "      border-top-color: var(--fill-color);\n",
              "    }\n",
              "    30% {\n",
              "      border-color: transparent;\n",
              "      border-left-color: var(--fill-color);\n",
              "      border-top-color: var(--fill-color);\n",
              "      border-right-color: var(--fill-color);\n",
              "    }\n",
              "    40% {\n",
              "      border-color: transparent;\n",
              "      border-right-color: var(--fill-color);\n",
              "      border-top-color: var(--fill-color);\n",
              "    }\n",
              "    60% {\n",
              "      border-color: transparent;\n",
              "      border-right-color: var(--fill-color);\n",
              "    }\n",
              "    80% {\n",
              "      border-color: transparent;\n",
              "      border-right-color: var(--fill-color);\n",
              "      border-bottom-color: var(--fill-color);\n",
              "    }\n",
              "    90% {\n",
              "      border-color: transparent;\n",
              "      border-bottom-color: var(--fill-color);\n",
              "    }\n",
              "  }\n",
              "</style>\n",
              "\n",
              "  <script>\n",
              "    async function quickchart(key) {\n",
              "      const quickchartButtonEl =\n",
              "        document.querySelector('#' + key + ' button');\n",
              "      quickchartButtonEl.disabled = true;  // To prevent multiple clicks.\n",
              "      quickchartButtonEl.classList.add('colab-df-spinner');\n",
              "      try {\n",
              "        const charts = await google.colab.kernel.invokeFunction(\n",
              "            'suggestCharts', [key], {});\n",
              "      } catch (error) {\n",
              "        console.error('Error during call to suggestCharts:', error);\n",
              "      }\n",
              "      quickchartButtonEl.classList.remove('colab-df-spinner');\n",
              "      quickchartButtonEl.classList.add('colab-df-quickchart-complete');\n",
              "    }\n",
              "    (() => {\n",
              "      let quickchartButtonEl =\n",
              "        document.querySelector('#df-230a0720-7c76-4c9e-8260-f272e301847b button');\n",
              "      quickchartButtonEl.style.display =\n",
              "        google.colab.kernel.accessAllowed ? 'block' : 'none';\n",
              "    })();\n",
              "  </script>\n",
              "</div>\n",
              "\n",
              "    </div>\n",
              "  </div>\n"
            ],
            "application/vnd.google.colaboratory.intrinsic+json": {
              "type": "dataframe",
              "variable_name": "df",
              "summary": "{\n  \"name\": \"df\",\n  \"rows\": 6046,\n  \"fields\": [\n    {\n      \"column\": \"Unnamed: 0\",\n      \"properties\": {\n        \"dtype\": \"number\",\n        \"std\": 1745,\n        \"min\": 0,\n        \"max\": 6045,\n        \"num_unique_values\": 6046,\n        \"samples\": [\n          4047,\n          4604,\n          1992\n        ],\n        \"semantic_type\": \"\",\n        \"description\": \"\"\n      }\n    },\n    {\n      \"column\": \"Body\",\n      \"properties\": {\n        \"dtype\": \"string\",\n        \"num_unique_values\": 5292,\n        \"samples\": [\n          \"\\n\\u00c2\\u00a0VIAGRA\\nTM\\n                  \\u00c2\\u00a0\\nIs the breakthrough\\n      medication that has restored\\n      or enhanced the Sex lives of millions of men.\\nIs available to you online\\n      and\\nFedExtm\\n      delivered to your mailbox at\\n      LOWEST PRICES\\n ANYWHEREPlus we offer\\nP H E N T E R M I N E\\nThe World Renown Weight\\n      Loss Miracle Pill.\\nOnline Ordering is\\n      Convenient, Affordable and Confidential.\\n\\u00c2\\u00a0 For More\\n      Savings\\n      Info.\\nPlease\\n      Become One Of Our Many\\n      \\u00c2\\u00a0We are your online pharmacy for\\n       FDA approved drugs\\n      \\u00c2\\u00a0through FREE online consultation. We offer the widest\\u00c2\\u00a0\\n range of drugs available through online ordering.\\u00c2\\u00a0\\n      We\\n      have the Lowest Priced Viagra On The Internet.\\u00c2\\u00a0      \\u00c2\\u00a0 For The\\n      Perfect Experience\\n      Click Here and Revitalize Your Life.\\n\\u00c2\\u00a0\\n      To be removed\\u00c2\\u00a0put your email address in the body of the email along with\\n      \\u00c2\\u00a0the words \\\"user inactiv*e\\\" without the * by just clicking Remove Me ******\",\n          \"Get a FREE CAR or SUV!\\nCLICK HERE!\\nThere are hundreds of companies giving away FREE CARS!\\n \\nChevy Blazer\\nDodge Durango\\nFord Windstar\\nHonda Civic And More...!\\nCLICK HERE!We take your privacy very seriously and it is our policy never to send unwanted email messages. This message has been sent to gibbs@midrange.com because you are a member of Consumer Today or you signed up with one of our marketing partners. To unsubscribe, simply click here (please allow 3-5 business days for your unsubscribe request to be processed). Questions or comments - send them to customerservice@consumertoday.net.\",\n          \"When Economy goes down, WE go UP !$3000 COMMISSION per Sale for YOU !!\\n \\nWith the POWER of F I N A N C I N G  !\\nThis is for SERIOUS people ONLY\\n \\nMAKE huge $3000 COMMISSIONS on every SALE!\\nFor only $300 down and $149 per month!\\n \\nPart time earnings: $ 6000 per month\\nFull time earnings: $15,000 to 25,000 per month\\nEasy, fast and fun !!\\nStrictly NOT MLM !!\\n \\nHere YOU EARN MONEY IMMEDIATELY!\\nIf We have to prove it to You, We can and We will.\\nMy personal Bank Statement will speak for it.\\n NEW ! ASSURED    F I N A N C I N G    AVAILABLE !!\\nWhere else DO YOU MAKE $3000 per sale ??\\nOur Lease Program lets YOU start right away - It's Fast and Easy!\\n \\nDo not miss out, as THIS is a ONE TIME OFFER!\\nFree training included!\\nProgram available in USA and Canada only!\\n REQUEST more free info NOW!\\nsend an email to:      PaulBennert@excite.com\\nwith \\\"SEND INFO\\\" \\nin the subject line\\n(do NOT click REPLY!)\\n \\n \\n \\n \\n \\n \\n \\n \\nTo remove, please send an email with REMOVE\\nin the subject line to:  Plutoristal@excite.com\\n \\n\"\n        ],\n        \"semantic_type\": \"\",\n        \"description\": \"\"\n      }\n    },\n    {\n      \"column\": \"Label\",\n      \"properties\": {\n        \"dtype\": \"number\",\n        \"std\": 0,\n        \"min\": 0,\n        \"max\": 1,\n        \"num_unique_values\": 2,\n        \"samples\": [\n          0,\n          1\n        ],\n        \"semantic_type\": \"\",\n        \"description\": \"\"\n      }\n    }\n  ]\n}"
            }
          },
          "metadata": {},
          "execution_count": 5
        }
      ],
      "source": [
        "df.head()"
      ]
    },
    {
      "cell_type": "markdown",
      "metadata": {
        "id": "w9KF5v2HgxrQ"
      },
      "source": [
        "# **Data Cleaning and Preprocessing**"
      ]
    },
    {
      "cell_type": "code",
      "execution_count": 6,
      "metadata": {
        "id": "eSowGDdIAz9t"
      },
      "outputs": [],
      "source": [
        "df = df.drop(columns = 'Unnamed: 0', axis='columns')\n",
        "df = df[df['Body']!= 'empty']"
      ]
    },
    {
      "cell_type": "code",
      "execution_count": 7,
      "metadata": {
        "colab": {
          "base_uri": "https://localhost:8080/"
        },
        "id": "1Bbjl9M6f5eV",
        "outputId": "869290ae-383c-4a88-8b33-37a5056778f7"
      },
      "outputs": [
        {
          "output_type": "execute_result",
          "data": {
            "text/plain": [
              "221"
            ]
          },
          "metadata": {},
          "execution_count": 7
        }
      ],
      "source": [
        "df['Body'].duplicated().sum()"
      ]
    },
    {
      "cell_type": "code",
      "execution_count": 8,
      "metadata": {
        "id": "nvUWOCy1f5l5"
      },
      "outputs": [],
      "source": [
        "df = df.drop_duplicates()"
      ]
    },
    {
      "cell_type": "code",
      "execution_count": 9,
      "metadata": {
        "colab": {
          "base_uri": "https://localhost:8080/",
          "height": 206
        },
        "id": "VfbtML8UVyrK",
        "outputId": "66b0b2fd-4c76-4bcd-afc3-31abf122f4d4"
      },
      "outputs": [
        {
          "output_type": "execute_result",
          "data": {
            "text/plain": [
              "                                                Body  Label\n",
              "0  \\nSave up to 70% on Life Insurance.\\nWhy Spend...      1\n",
              "1  1) Fight The Risk of Cancer!\\nhttp://www.adcli...      1\n",
              "2  1) Fight The Risk of Cancer!\\nhttp://www.adcli...      1\n",
              "3  ##############################################...      1\n",
              "4  I thought you might like these:\\n1) Slim Down ...      1"
            ],
            "text/html": [
              "\n",
              "  <div id=\"df-3d22b8c1-c019-4a86-8904-dd0970013f26\" class=\"colab-df-container\">\n",
              "    <div>\n",
              "<style scoped>\n",
              "    .dataframe tbody tr th:only-of-type {\n",
              "        vertical-align: middle;\n",
              "    }\n",
              "\n",
              "    .dataframe tbody tr th {\n",
              "        vertical-align: top;\n",
              "    }\n",
              "\n",
              "    .dataframe thead th {\n",
              "        text-align: right;\n",
              "    }\n",
              "</style>\n",
              "<table border=\"1\" class=\"dataframe\">\n",
              "  <thead>\n",
              "    <tr style=\"text-align: right;\">\n",
              "      <th></th>\n",
              "      <th>Body</th>\n",
              "      <th>Label</th>\n",
              "    </tr>\n",
              "  </thead>\n",
              "  <tbody>\n",
              "    <tr>\n",
              "      <th>0</th>\n",
              "      <td>\\nSave up to 70% on Life Insurance.\\nWhy Spend...</td>\n",
              "      <td>1</td>\n",
              "    </tr>\n",
              "    <tr>\n",
              "      <th>1</th>\n",
              "      <td>1) Fight The Risk of Cancer!\\nhttp://www.adcli...</td>\n",
              "      <td>1</td>\n",
              "    </tr>\n",
              "    <tr>\n",
              "      <th>2</th>\n",
              "      <td>1) Fight The Risk of Cancer!\\nhttp://www.adcli...</td>\n",
              "      <td>1</td>\n",
              "    </tr>\n",
              "    <tr>\n",
              "      <th>3</th>\n",
              "      <td>##############################################...</td>\n",
              "      <td>1</td>\n",
              "    </tr>\n",
              "    <tr>\n",
              "      <th>4</th>\n",
              "      <td>I thought you might like these:\\n1) Slim Down ...</td>\n",
              "      <td>1</td>\n",
              "    </tr>\n",
              "  </tbody>\n",
              "</table>\n",
              "</div>\n",
              "    <div class=\"colab-df-buttons\">\n",
              "\n",
              "  <div class=\"colab-df-container\">\n",
              "    <button class=\"colab-df-convert\" onclick=\"convertToInteractive('df-3d22b8c1-c019-4a86-8904-dd0970013f26')\"\n",
              "            title=\"Convert this dataframe to an interactive table.\"\n",
              "            style=\"display:none;\">\n",
              "\n",
              "  <svg xmlns=\"http://www.w3.org/2000/svg\" height=\"24px\" viewBox=\"0 -960 960 960\">\n",
              "    <path d=\"M120-120v-720h720v720H120Zm60-500h600v-160H180v160Zm220 220h160v-160H400v160Zm0 220h160v-160H400v160ZM180-400h160v-160H180v160Zm440 0h160v-160H620v160ZM180-180h160v-160H180v160Zm440 0h160v-160H620v160Z\"/>\n",
              "  </svg>\n",
              "    </button>\n",
              "\n",
              "  <style>\n",
              "    .colab-df-container {\n",
              "      display:flex;\n",
              "      gap: 12px;\n",
              "    }\n",
              "\n",
              "    .colab-df-convert {\n",
              "      background-color: #E8F0FE;\n",
              "      border: none;\n",
              "      border-radius: 50%;\n",
              "      cursor: pointer;\n",
              "      display: none;\n",
              "      fill: #1967D2;\n",
              "      height: 32px;\n",
              "      padding: 0 0 0 0;\n",
              "      width: 32px;\n",
              "    }\n",
              "\n",
              "    .colab-df-convert:hover {\n",
              "      background-color: #E2EBFA;\n",
              "      box-shadow: 0px 1px 2px rgba(60, 64, 67, 0.3), 0px 1px 3px 1px rgba(60, 64, 67, 0.15);\n",
              "      fill: #174EA6;\n",
              "    }\n",
              "\n",
              "    .colab-df-buttons div {\n",
              "      margin-bottom: 4px;\n",
              "    }\n",
              "\n",
              "    [theme=dark] .colab-df-convert {\n",
              "      background-color: #3B4455;\n",
              "      fill: #D2E3FC;\n",
              "    }\n",
              "\n",
              "    [theme=dark] .colab-df-convert:hover {\n",
              "      background-color: #434B5C;\n",
              "      box-shadow: 0px 1px 3px 1px rgba(0, 0, 0, 0.15);\n",
              "      filter: drop-shadow(0px 1px 2px rgba(0, 0, 0, 0.3));\n",
              "      fill: #FFFFFF;\n",
              "    }\n",
              "  </style>\n",
              "\n",
              "    <script>\n",
              "      const buttonEl =\n",
              "        document.querySelector('#df-3d22b8c1-c019-4a86-8904-dd0970013f26 button.colab-df-convert');\n",
              "      buttonEl.style.display =\n",
              "        google.colab.kernel.accessAllowed ? 'block' : 'none';\n",
              "\n",
              "      async function convertToInteractive(key) {\n",
              "        const element = document.querySelector('#df-3d22b8c1-c019-4a86-8904-dd0970013f26');\n",
              "        const dataTable =\n",
              "          await google.colab.kernel.invokeFunction('convertToInteractive',\n",
              "                                                    [key], {});\n",
              "        if (!dataTable) return;\n",
              "\n",
              "        const docLinkHtml = 'Like what you see? Visit the ' +\n",
              "          '<a target=\"_blank\" href=https://colab.research.google.com/notebooks/data_table.ipynb>data table notebook</a>'\n",
              "          + ' to learn more about interactive tables.';\n",
              "        element.innerHTML = '';\n",
              "        dataTable['output_type'] = 'display_data';\n",
              "        await google.colab.output.renderOutput(dataTable, element);\n",
              "        const docLink = document.createElement('div');\n",
              "        docLink.innerHTML = docLinkHtml;\n",
              "        element.appendChild(docLink);\n",
              "      }\n",
              "    </script>\n",
              "  </div>\n",
              "\n",
              "\n",
              "<div id=\"df-ec2bff16-2b3a-4516-8953-cdcbd0a3e907\">\n",
              "  <button class=\"colab-df-quickchart\" onclick=\"quickchart('df-ec2bff16-2b3a-4516-8953-cdcbd0a3e907')\"\n",
              "            title=\"Suggest charts\"\n",
              "            style=\"display:none;\">\n",
              "\n",
              "<svg xmlns=\"http://www.w3.org/2000/svg\" height=\"24px\"viewBox=\"0 0 24 24\"\n",
              "     width=\"24px\">\n",
              "    <g>\n",
              "        <path d=\"M19 3H5c-1.1 0-2 .9-2 2v14c0 1.1.9 2 2 2h14c1.1 0 2-.9 2-2V5c0-1.1-.9-2-2-2zM9 17H7v-7h2v7zm4 0h-2V7h2v10zm4 0h-2v-4h2v4z\"/>\n",
              "    </g>\n",
              "</svg>\n",
              "  </button>\n",
              "\n",
              "<style>\n",
              "  .colab-df-quickchart {\n",
              "      --bg-color: #E8F0FE;\n",
              "      --fill-color: #1967D2;\n",
              "      --hover-bg-color: #E2EBFA;\n",
              "      --hover-fill-color: #174EA6;\n",
              "      --disabled-fill-color: #AAA;\n",
              "      --disabled-bg-color: #DDD;\n",
              "  }\n",
              "\n",
              "  [theme=dark] .colab-df-quickchart {\n",
              "      --bg-color: #3B4455;\n",
              "      --fill-color: #D2E3FC;\n",
              "      --hover-bg-color: #434B5C;\n",
              "      --hover-fill-color: #FFFFFF;\n",
              "      --disabled-bg-color: #3B4455;\n",
              "      --disabled-fill-color: #666;\n",
              "  }\n",
              "\n",
              "  .colab-df-quickchart {\n",
              "    background-color: var(--bg-color);\n",
              "    border: none;\n",
              "    border-radius: 50%;\n",
              "    cursor: pointer;\n",
              "    display: none;\n",
              "    fill: var(--fill-color);\n",
              "    height: 32px;\n",
              "    padding: 0;\n",
              "    width: 32px;\n",
              "  }\n",
              "\n",
              "  .colab-df-quickchart:hover {\n",
              "    background-color: var(--hover-bg-color);\n",
              "    box-shadow: 0 1px 2px rgba(60, 64, 67, 0.3), 0 1px 3px 1px rgba(60, 64, 67, 0.15);\n",
              "    fill: var(--button-hover-fill-color);\n",
              "  }\n",
              "\n",
              "  .colab-df-quickchart-complete:disabled,\n",
              "  .colab-df-quickchart-complete:disabled:hover {\n",
              "    background-color: var(--disabled-bg-color);\n",
              "    fill: var(--disabled-fill-color);\n",
              "    box-shadow: none;\n",
              "  }\n",
              "\n",
              "  .colab-df-spinner {\n",
              "    border: 2px solid var(--fill-color);\n",
              "    border-color: transparent;\n",
              "    border-bottom-color: var(--fill-color);\n",
              "    animation:\n",
              "      spin 1s steps(1) infinite;\n",
              "  }\n",
              "\n",
              "  @keyframes spin {\n",
              "    0% {\n",
              "      border-color: transparent;\n",
              "      border-bottom-color: var(--fill-color);\n",
              "      border-left-color: var(--fill-color);\n",
              "    }\n",
              "    20% {\n",
              "      border-color: transparent;\n",
              "      border-left-color: var(--fill-color);\n",
              "      border-top-color: var(--fill-color);\n",
              "    }\n",
              "    30% {\n",
              "      border-color: transparent;\n",
              "      border-left-color: var(--fill-color);\n",
              "      border-top-color: var(--fill-color);\n",
              "      border-right-color: var(--fill-color);\n",
              "    }\n",
              "    40% {\n",
              "      border-color: transparent;\n",
              "      border-right-color: var(--fill-color);\n",
              "      border-top-color: var(--fill-color);\n",
              "    }\n",
              "    60% {\n",
              "      border-color: transparent;\n",
              "      border-right-color: var(--fill-color);\n",
              "    }\n",
              "    80% {\n",
              "      border-color: transparent;\n",
              "      border-right-color: var(--fill-color);\n",
              "      border-bottom-color: var(--fill-color);\n",
              "    }\n",
              "    90% {\n",
              "      border-color: transparent;\n",
              "      border-bottom-color: var(--fill-color);\n",
              "    }\n",
              "  }\n",
              "</style>\n",
              "\n",
              "  <script>\n",
              "    async function quickchart(key) {\n",
              "      const quickchartButtonEl =\n",
              "        document.querySelector('#' + key + ' button');\n",
              "      quickchartButtonEl.disabled = true;  // To prevent multiple clicks.\n",
              "      quickchartButtonEl.classList.add('colab-df-spinner');\n",
              "      try {\n",
              "        const charts = await google.colab.kernel.invokeFunction(\n",
              "            'suggestCharts', [key], {});\n",
              "      } catch (error) {\n",
              "        console.error('Error during call to suggestCharts:', error);\n",
              "      }\n",
              "      quickchartButtonEl.classList.remove('colab-df-spinner');\n",
              "      quickchartButtonEl.classList.add('colab-df-quickchart-complete');\n",
              "    }\n",
              "    (() => {\n",
              "      let quickchartButtonEl =\n",
              "        document.querySelector('#df-ec2bff16-2b3a-4516-8953-cdcbd0a3e907 button');\n",
              "      quickchartButtonEl.style.display =\n",
              "        google.colab.kernel.accessAllowed ? 'block' : 'none';\n",
              "    })();\n",
              "  </script>\n",
              "</div>\n",
              "\n",
              "    </div>\n",
              "  </div>\n"
            ],
            "application/vnd.google.colaboratory.intrinsic+json": {
              "type": "dataframe",
              "variable_name": "df",
              "summary": "{\n  \"name\": \"df\",\n  \"rows\": 5292,\n  \"fields\": [\n    {\n      \"column\": \"Body\",\n      \"properties\": {\n        \"dtype\": \"string\",\n        \"num_unique_values\": 5291,\n        \"samples\": [\n          \"\\nDear Friend:Find solutions to all your daily problems and life's challenges at the click of a mouse button?We have the answers you're looking for on The Word Bible CD-ROM it is one of the most powerful, life-changing tools available today and it's easy to use.On one CD, (Windows or Macintosh versions) you have a complete library of Bibles, well known reference books and study tools. You can view several Bible versions simultaneously, make personal notes, print scriptures and search by word, phrase or topic.The Word Bible CD offers are simply amazing.The wide range of resources on the CD are valued at over $1,500 if purchased separately.** 14 English Bible Versions\\n** 32 Foreign Language Versions\\n** 9 Original Language Versions\\n** Homeschool Resource Index\\n** 17 Notes & Commentaries\\n** Colorful Maps, Illustrations, & Graphs\\n** Step-by-Step Tutorial\\n** Fast & Powerful Word/Phrase Search\\n** More than 660,000 cross references\\n** Complete Manual With IndexAlso:** Build a strong foundation for dynamic Bible Study,\\n** Make personal notes directly into your computer,\\n** Create links to favorite scriptures and books.Try it. No Risk. 30-day money-back guarantee\\n[excluding shipping & handling]If you are interested in complete information on The Word CD, please visit our\\nWeb site: http://bible.8mail.net/\\n \\nUS and International orders accepted. Credit cards and personal checks accepted.If your browser won't load the Web site please click the link below to send us an e-mail and we will provide you more information.mailto:cd-bible@minister.com?subject=Please-email-Bible-info    Your relationship with God is the foundation of your life -- on earth and for eternity. It's the most important relationship you'll ever enjoy. Build your relationship with God so you can reap the life-changing benefits only He can provide: unconditional love; eternal life; financial and emotional strength; health; and solutions to every problem or challenge you'll ever face.May God Bless You,\\nGGII Ministries, 160 White Pines Dr., Alpharetta Ga, 30004\\nE-mail address:CD-bible@minister.com  \\nPhone:  770-343-9724  Fax 770-772-9925******************************************We apologize if you are not interested in being on our Bible News e-mail list. The Internet is the fastest method of distributing this type of timely information. If you wish to have your e-mail address deleted from our Bible News e-mail database, DO NOT USE THE REPLY BUTTON. THE FROM ADDRESS DOES NOT GO TO OUR REMOVE DATABASE. Simply click here to send an e-mail that will remove your address from the database: mailto:rm8952@post.com?subject=offlist     \",\n          \"\\nEdrugsource.com\\nWe offer the Absolute Lowest prices on Viagra and other \\nFDA-approved medications.\\nMedication prescribed by licensed U.S. Physicians and \\nshipped via overnight delivery. \\nFree Medical Consultation Available 24 hours... 7 Days a \\nweek! \\nNo Physical Exam Necessary. \\nFeatured Products Available for immediate delivery at \\nEdrugsource.com\\u00c2\\u00a0include:Viagra \\nPhentermine \\nCelebrex \\nXenical \\nPlus Much More! \\nWeight Loss - Sexual \\nHealth - Skin Care - Pain Relief- Stop Smoking Visit  Edrugsource.com for a discrete, safe and secure \\nexperience.\\nCLICK HERE \\nto see what we have!!!To be excluded from our mailing \\nlist, \\nCLICK HERE  .  You will then be automatically deleted from future mailings.============================================================================= \\n--DeathToSpamDeathToSpamDeathToSpam--\\n-------------------------------------------------------\\nThis sf.net email is sponsored by: Jabber - The world's fastest growing \\nreal-time communications platform! Don't just IM. Build it in! \\nhttp://www.jabber.com/osdn/xim\\n_______________________________________________\\nSpamassassin-Sightings mailing list\\nSpamassassin-Sightings@lists.sourceforge.net\\nhttps://lists.sourceforge.net/lists/listinfo/spamassassin-sightings\\n\",\n          \"_/ _/ _/ _/ _/ _/ _/ _/ _/ _/ _/ _/ _/ _/ _/ _/ _/ _/ _/ _/ S   P   E   C   I   A   L         R   E   P   O   R   T  How To Reliably Generate Hundreds Of Leads And Prospects\\nEvery Week!\\n               \\n_/ _/ _/ _/ _/ _/ _/ _/ _/ _/ _/ _/ _/ _/ _/ _/ _/ _/ _/ _/\\n       \\nOur research has found that many online entrepreneurs have\\ntried one or more of the following...    Free Classifieds? (Don't work anymore)\\n    Web Site? (Takes thousands of surfers)\\n    Banners? (Expensive and losing their punch)\\n    E-Zine? (Hope they have a -huge- subscriber list)\\n    Search Engines? (Forget it, unless you're in the top 10)\\n   \\n         S O   W H A T   D O E S   W O R K ?Although often misunderstood, there is one method that has\\nproven to succeed time-after-time.\\n         E - M A I L   M A R K E T I N G ! !\\nDoes the thought of $50,000 to $151,200.00 per year make you\\ntingle with excitement?  Many of our customers make that and \\nmore... Click here to find out how:\\nhttp://32.97.166.75/usinet.zvlavii \\nHERE'S WHAT THE EXPERTS HAVE TO SAY ABOUT E-MAIL MARKETING:\\n\\\"A gold mine for those who can take advantage of\\nbulk e-mail programs\\\" - The New York Times\\\"E-mail is an incredible lead generation tool\\\"\\n- Crains MagazineClick here to find out how YOU can do it:\\nhttp://32.97.166.75/usinet.zvlavii ==========================================================\\n-=-=-=-=-=-=-=-=-=-=-Remove Instructions=-=-=-=-=-=-=-=-=-**********************************************************\\nDo not reply to this message - To be removed from future\\nmailings, Click Here:\\nmailto:tiana37@flashmail.com?Subject=Remove Please do not include correspondence with your remove \\nrequest  - all requests processed automatically.\\n********************************************************** [&*TG0]\\n\"\n        ],\n        \"semantic_type\": \"\",\n        \"description\": \"\"\n      }\n    },\n    {\n      \"column\": \"Label\",\n      \"properties\": {\n        \"dtype\": \"number\",\n        \"std\": 0,\n        \"min\": 0,\n        \"max\": 1,\n        \"num_unique_values\": 2,\n        \"samples\": [\n          0,\n          1\n        ],\n        \"semantic_type\": \"\",\n        \"description\": \"\"\n      }\n    }\n  ]\n}"
            }
          },
          "metadata": {},
          "execution_count": 9
        }
      ],
      "source": [
        "df.head()"
      ]
    },
    {
      "cell_type": "code",
      "execution_count": 11,
      "metadata": {
        "id": "oHoAdk0VVzfR"
      },
      "outputs": [],
      "source": [
        "data = df.where((pd.notnull(df)), '')"
      ]
    },
    {
      "cell_type": "code",
      "execution_count": 12,
      "metadata": {
        "colab": {
          "base_uri": "https://localhost:8080/"
        },
        "id": "Oj1d90US6htS",
        "outputId": "5c893065-5989-47bb-ad5e-ffef3b5e7f7d"
      },
      "outputs": [
        {
          "output_type": "execute_result",
          "data": {
            "text/plain": [
              "0"
            ]
          },
          "metadata": {},
          "execution_count": 12
        }
      ],
      "source": [
        "data.isna().sum().sum()"
      ]
    },
    {
      "cell_type": "code",
      "execution_count": 13,
      "metadata": {
        "colab": {
          "base_uri": "https://localhost:8080/"
        },
        "id": "5l-yH5NG6ipt",
        "outputId": "b7c87dbc-31f7-48d5-af0b-c23408667290"
      },
      "outputs": [
        {
          "output_type": "stream",
          "name": "stdout",
          "text": [
            "<class 'pandas.core.frame.DataFrame'>\n",
            "Index: 5292 entries, 0 to 6043\n",
            "Data columns (total 2 columns):\n",
            " #   Column  Non-Null Count  Dtype \n",
            "---  ------  --------------  ----- \n",
            " 0   Body    5292 non-null   object\n",
            " 1   Label   5292 non-null   int64 \n",
            "dtypes: int64(1), object(1)\n",
            "memory usage: 124.0+ KB\n"
          ]
        }
      ],
      "source": [
        "data.info()"
      ]
    },
    {
      "cell_type": "code",
      "execution_count": 14,
      "metadata": {
        "colab": {
          "base_uri": "https://localhost:8080/"
        },
        "id": "UbbTB4wo61pP",
        "outputId": "071a0f67-2109-4afc-8111-2c02e136302a"
      },
      "outputs": [
        {
          "output_type": "execute_result",
          "data": {
            "text/plain": [
              "(5292, 2)"
            ]
          },
          "metadata": {},
          "execution_count": 14
        }
      ],
      "source": [
        "data.shape"
      ]
    },
    {
      "cell_type": "code",
      "execution_count": 15,
      "metadata": {
        "id": "tBId68NnHQ-k"
      },
      "outputs": [],
      "source": [
        "data.reset_index(drop=True, inplace=True)"
      ]
    },
    {
      "cell_type": "code",
      "source": [
        "y = df['Label'].values\n"
      ],
      "metadata": {
        "id": "IUYxBI3cd476"
      },
      "execution_count": 21,
      "outputs": []
    },
    {
      "cell_type": "markdown",
      "metadata": {
        "id": "UcOI3Ts4bSjP"
      },
      "source": [
        "# **Text Vecorization**"
      ]
    },
    {
      "cell_type": "code",
      "execution_count": 16,
      "metadata": {
        "id": "YXJN8zE5m8Fm"
      },
      "outputs": [],
      "source": [
        "ps = PorterStemmer()\n",
        "corpus = []\n",
        "for index, row in data.iterrows():\n",
        "  review = re.sub('[^a-zA-Z]', ' ', row['Body'])\n",
        "  review = review.lower()\n",
        "  review = review.split()\n",
        "  review = [ps.stem(word) for word in review if not word in stopwords.words('english')]\n",
        "  review = ' '.join(review)\n",
        "  corpus.append(review)"
      ]
    },
    {
      "cell_type": "code",
      "execution_count": 17,
      "metadata": {
        "id": "ckVAmsuLQcV_"
      },
      "outputs": [],
      "source": [
        "tokenized_corpus = [sentence.split() for sentence in corpus]\n",
        "\n",
        "# Train a Word2Vec model on the tokenized corpus\n",
        "word2vec_model = Word2Vec(sentences=tokenized_corpus, vector_size=128, window=5, min_count=1, workers=4)"
      ]
    },
    {
      "cell_type": "code",
      "source": [
        "max_words = 5000  # Max words to keep\n",
        "max_length = 100  # Max length of sequences"
      ],
      "metadata": {
        "id": "xOgPSdSva7j0"
      },
      "execution_count": 18,
      "outputs": []
    },
    {
      "cell_type": "code",
      "source": [
        "tokenizer = Tokenizer(num_words=max_words)\n",
        "tokenizer.fit_on_texts(corpus)\n",
        "X = tokenizer.texts_to_sequences(corpus)\n",
        "X = pad_sequences(X, maxlen=max_length)"
      ],
      "metadata": {
        "id": "GpjSVn1Ca7me"
      },
      "execution_count": 19,
      "outputs": []
    },
    {
      "cell_type": "code",
      "source": [
        "smote = SMOTE(sampling_strategy='minority', random_state=42)\n",
        "X_resampled, y_resampled = smote.fit_resample(X, y)"
      ],
      "metadata": {
        "id": "A-ay8RuDa7pU"
      },
      "execution_count": 22,
      "outputs": []
    },
    {
      "cell_type": "markdown",
      "metadata": {
        "id": "4LpIr1OvbfEo"
      },
      "source": [
        "# **Train Test Split**"
      ]
    },
    {
      "cell_type": "code",
      "execution_count": 23,
      "metadata": {
        "id": "ZBbEqMHsm8OQ"
      },
      "outputs": [],
      "source": [
        "X_train, X_test, y_train, y_test = train_test_split(X_resampled, y_resampled, test_size=0.2, random_state=3)\n",
        "\n"
      ]
    },
    {
      "cell_type": "code",
      "source": [
        "embedding_dim = 128  # Same as Word2Vec vector size\n",
        "vocab_size = min(len(tokenizer.word_index) + 1, max_words)"
      ],
      "metadata": {
        "id": "JPgJn82HbH52"
      },
      "execution_count": 24,
      "outputs": []
    },
    {
      "cell_type": "code",
      "source": [
        "embedding_matrix = np.zeros((vocab_size, embedding_dim))\n",
        "for word, i in tokenizer.word_index.items():\n",
        "    if i < vocab_size and word in word2vec_model.wv:\n",
        "        embedding_matrix[i] = word2vec_model.wv[word]\n"
      ],
      "metadata": {
        "id": "VpJePc6ZbH8T"
      },
      "execution_count": 25,
      "outputs": []
    },
    {
      "cell_type": "code",
      "source": [
        "embedding_layer = Embedding(input_dim=vocab_size,\n",
        "                            output_dim=embedding_dim,\n",
        "                            weights=[embedding_matrix],\n",
        "                            input_length=max_length,\n",
        "                            trainable=False)"
      ],
      "metadata": {
        "colab": {
          "base_uri": "https://localhost:8080/"
        },
        "id": "6b6e2B86bH_N",
        "outputId": "862a6377-6f54-4188-8331-7f682d483746"
      },
      "execution_count": 26,
      "outputs": [
        {
          "output_type": "stream",
          "name": "stderr",
          "text": [
            "/usr/local/lib/python3.11/dist-packages/keras/src/layers/core/embedding.py:90: UserWarning: Argument `input_length` is deprecated. Just remove it.\n",
            "  warnings.warn(\n"
          ]
        }
      ]
    },
    {
      "cell_type": "code",
      "source": [],
      "metadata": {
        "id": "WRfpGXd_bICm"
      },
      "execution_count": null,
      "outputs": []
    },
    {
      "cell_type": "markdown",
      "metadata": {
        "id": "koueuzuJbwPM"
      },
      "source": [
        "# **Model Training and Performance Metrics**"
      ]
    },
    {
      "cell_type": "code",
      "execution_count": 31,
      "metadata": {
        "id": "EDtr7RyM6rb2"
      },
      "outputs": [],
      "source": [
        "def build_and_train_model(model_type=\"RNN\"):\n",
        "    model = Sequential([\n",
        "        embedding_layer,  # Use pre-trained Word2Vec embeddings\n",
        "    ])\n",
        "\n",
        "    if model_type == \"RNN\":\n",
        "        model.add(SimpleRNN(128, activation='relu', return_sequences=True))\n",
        "        model.add(Dropout(0.5))\n",
        "        model.add(SimpleRNN(64, activation='relu'))\n",
        "    elif model_type == \"LSTM\":\n",
        "        model.add(Bidirectional(LSTM(128, return_sequences=True)))\n",
        "        model.add(Dropout(0.5))\n",
        "        model.add(LSTM(64))\n",
        "    elif model_type == \"GRU\":\n",
        "        model.add(Bidirectional(GRU(128, return_sequences=True)))\n",
        "        model.add(Dropout(0.5))\n",
        "        model.add(GRU(64))\n",
        "\n",
        "    model.add(Dropout(0.5))\n",
        "    model.add(Dense(1, activation='sigmoid'))  # Binary classification\n",
        "\n",
        "    model.compile(optimizer='adam', loss='binary_crossentropy', metrics=['accuracy'])\n",
        "\n",
        "    print(f\"\\nTraining {model_type} Model...\")\n",
        "    model.fit(X_train, y_train, epochs=20, batch_size=64, validation_data=(X_test, y_test))\n",
        "\n",
        "    return model\n"
      ]
    },
    {
      "cell_type": "code",
      "execution_count": 32,
      "metadata": {
        "id": "bRZvhV_sVcU5",
        "colab": {
          "base_uri": "https://localhost:8080/"
        },
        "outputId": "32523011-9fab-472b-a30d-7117dc2e20b1"
      },
      "outputs": [
        {
          "output_type": "stream",
          "name": "stdout",
          "text": [
            "\n",
            "Training RNN Model...\n",
            "Epoch 1/20\n",
            "\u001b[1m98/98\u001b[0m \u001b[32m━━━━━━━━━━━━━━━━━━━━\u001b[0m\u001b[37m\u001b[0m \u001b[1m10s\u001b[0m 48ms/step - accuracy: 0.6180 - loss: 0.7498 - val_accuracy: 0.7784 - val_loss: 0.4338\n",
            "Epoch 2/20\n",
            "\u001b[1m98/98\u001b[0m \u001b[32m━━━━━━━━━━━━━━━━━━━━\u001b[0m\u001b[37m\u001b[0m \u001b[1m4s\u001b[0m 19ms/step - accuracy: 0.7750 - loss: 0.4689 - val_accuracy: 0.8806 - val_loss: 0.3292\n",
            "Epoch 3/20\n",
            "\u001b[1m98/98\u001b[0m \u001b[32m━━━━━━━━━━━━━━━━━━━━\u001b[0m\u001b[37m\u001b[0m \u001b[1m3s\u001b[0m 20ms/step - accuracy: 0.8424 - loss: 0.3759 - val_accuracy: 0.8685 - val_loss: 0.3744\n",
            "Epoch 4/20\n",
            "\u001b[1m98/98\u001b[0m \u001b[32m━━━━━━━━━━━━━━━━━━━━\u001b[0m\u001b[37m\u001b[0m \u001b[1m2s\u001b[0m 17ms/step - accuracy: 0.8916 - loss: 0.2862 - val_accuracy: 0.9189 - val_loss: 0.2244\n",
            "Epoch 5/20\n",
            "\u001b[1m98/98\u001b[0m \u001b[32m━━━━━━━━━━━━━━━━━━━━\u001b[0m\u001b[37m\u001b[0m \u001b[1m3s\u001b[0m 17ms/step - accuracy: 0.9159 - loss: 0.2471 - val_accuracy: 0.9323 - val_loss: 0.1808\n",
            "Epoch 6/20\n",
            "\u001b[1m98/98\u001b[0m \u001b[32m━━━━━━━━━━━━━━━━━━━━\u001b[0m\u001b[37m\u001b[0m \u001b[1m2s\u001b[0m 19ms/step - accuracy: 0.9362 - loss: 0.1921 - val_accuracy: 0.9374 - val_loss: 0.1718\n",
            "Epoch 7/20\n",
            "\u001b[1m98/98\u001b[0m \u001b[32m━━━━━━━━━━━━━━━━━━━━\u001b[0m\u001b[37m\u001b[0m \u001b[1m2s\u001b[0m 17ms/step - accuracy: 0.9416 - loss: 0.1631 - val_accuracy: 0.9368 - val_loss: 0.1853\n",
            "Epoch 8/20\n",
            "\u001b[1m98/98\u001b[0m \u001b[32m━━━━━━━━━━━━━━━━━━━━\u001b[0m\u001b[37m\u001b[0m \u001b[1m3s\u001b[0m 19ms/step - accuracy: 0.9324 - loss: 0.1891 - val_accuracy: 0.9183 - val_loss: 0.2454\n",
            "Epoch 9/20\n",
            "\u001b[1m98/98\u001b[0m \u001b[32m━━━━━━━━━━━━━━━━━━━━\u001b[0m\u001b[37m\u001b[0m \u001b[1m2s\u001b[0m 19ms/step - accuracy: 0.9313 - loss: 0.1953 - val_accuracy: 0.8167 - val_loss: 0.4661\n",
            "Epoch 10/20\n",
            "\u001b[1m98/98\u001b[0m \u001b[32m━━━━━━━━━━━━━━━━━━━━\u001b[0m\u001b[37m\u001b[0m \u001b[1m3s\u001b[0m 19ms/step - accuracy: 0.8056 - loss: 0.4240 - val_accuracy: 0.9106 - val_loss: 0.2560\n",
            "Epoch 11/20\n",
            "\u001b[1m98/98\u001b[0m \u001b[32m━━━━━━━━━━━━━━━━━━━━\u001b[0m\u001b[37m\u001b[0m \u001b[1m2s\u001b[0m 17ms/step - accuracy: 0.9076 - loss: 0.2663 - val_accuracy: 0.9413 - val_loss: 0.1788\n",
            "Epoch 12/20\n",
            "\u001b[1m98/98\u001b[0m \u001b[32m━━━━━━━━━━━━━━━━━━━━\u001b[0m\u001b[37m\u001b[0m \u001b[1m3s\u001b[0m 17ms/step - accuracy: 0.9259 - loss: 0.2138 - val_accuracy: 0.9540 - val_loss: 0.1209\n",
            "Epoch 13/20\n",
            "\u001b[1m98/98\u001b[0m \u001b[32m━━━━━━━━━━━━━━━━━━━━\u001b[0m\u001b[37m\u001b[0m \u001b[1m2s\u001b[0m 17ms/step - accuracy: 0.9576 - loss: 0.1363 - val_accuracy: 0.9483 - val_loss: 0.1759\n",
            "Epoch 14/20\n",
            "\u001b[1m98/98\u001b[0m \u001b[32m━━━━━━━━━━━━━━━━━━━━\u001b[0m\u001b[37m\u001b[0m \u001b[1m2s\u001b[0m 19ms/step - accuracy: 0.9625 - loss: 0.1185 - val_accuracy: 0.9591 - val_loss: 0.1035\n",
            "Epoch 15/20\n",
            "\u001b[1m98/98\u001b[0m \u001b[32m━━━━━━━━━━━━━━━━━━━━\u001b[0m\u001b[37m\u001b[0m \u001b[1m2s\u001b[0m 20ms/step - accuracy: 0.9726 - loss: 0.0822 - val_accuracy: 0.9540 - val_loss: 0.1246\n",
            "Epoch 16/20\n",
            "\u001b[1m98/98\u001b[0m \u001b[32m━━━━━━━━━━━━━━━━━━━━\u001b[0m\u001b[37m\u001b[0m \u001b[1m2s\u001b[0m 19ms/step - accuracy: 0.9661 - loss: 0.1026 - val_accuracy: 0.9349 - val_loss: 0.1941\n",
            "Epoch 17/20\n",
            "\u001b[1m98/98\u001b[0m \u001b[32m━━━━━━━━━━━━━━━━━━━━\u001b[0m\u001b[37m\u001b[0m \u001b[1m3s\u001b[0m 19ms/step - accuracy: 0.9625 - loss: 0.1077 - val_accuracy: 0.9700 - val_loss: 0.0863\n",
            "Epoch 18/20\n",
            "\u001b[1m98/98\u001b[0m \u001b[32m━━━━━━━━━━━━━━━━━━━━\u001b[0m\u001b[37m\u001b[0m \u001b[1m2s\u001b[0m 17ms/step - accuracy: 0.9719 - loss: 0.0814 - val_accuracy: 0.9745 - val_loss: 0.0769\n",
            "Epoch 19/20\n",
            "\u001b[1m98/98\u001b[0m \u001b[32m━━━━━━━━━━━━━━━━━━━━\u001b[0m\u001b[37m\u001b[0m \u001b[1m3s\u001b[0m 17ms/step - accuracy: 0.9734 - loss: 0.0749 - val_accuracy: 0.9559 - val_loss: 0.1124\n",
            "Epoch 20/20\n",
            "\u001b[1m98/98\u001b[0m \u001b[32m━━━━━━━━━━━━━━━━━━━━\u001b[0m\u001b[37m\u001b[0m \u001b[1m3s\u001b[0m 19ms/step - accuracy: 0.9676 - loss: 0.0951 - val_accuracy: 0.9572 - val_loss: 0.1045\n",
            "\n",
            "Training LSTM Model...\n",
            "Epoch 1/20\n",
            "\u001b[1m98/98\u001b[0m \u001b[32m━━━━━━━━━━━━━━━━━━━━\u001b[0m\u001b[37m\u001b[0m \u001b[1m6s\u001b[0m 26ms/step - accuracy: 0.7786 - loss: 0.4568 - val_accuracy: 0.9068 - val_loss: 0.2493\n",
            "Epoch 2/20\n",
            "\u001b[1m98/98\u001b[0m \u001b[32m━━━━━━━━━━━━━━━━━━━━\u001b[0m\u001b[37m\u001b[0m \u001b[1m2s\u001b[0m 20ms/step - accuracy: 0.9163 - loss: 0.2270 - val_accuracy: 0.9476 - val_loss: 0.1361\n",
            "Epoch 3/20\n",
            "\u001b[1m98/98\u001b[0m \u001b[32m━━━━━━━━━━━━━━━━━━━━\u001b[0m\u001b[37m\u001b[0m \u001b[1m2s\u001b[0m 19ms/step - accuracy: 0.9581 - loss: 0.1244 - val_accuracy: 0.9623 - val_loss: 0.1131\n",
            "Epoch 4/20\n",
            "\u001b[1m98/98\u001b[0m \u001b[32m━━━━━━━━━━━━━━━━━━━━\u001b[0m\u001b[37m\u001b[0m \u001b[1m3s\u001b[0m 22ms/step - accuracy: 0.9677 - loss: 0.0960 - val_accuracy: 0.9655 - val_loss: 0.1059\n",
            "Epoch 5/20\n",
            "\u001b[1m98/98\u001b[0m \u001b[32m━━━━━━━━━━━━━━━━━━━━\u001b[0m\u001b[37m\u001b[0m \u001b[1m2s\u001b[0m 21ms/step - accuracy: 0.9701 - loss: 0.0835 - val_accuracy: 0.9732 - val_loss: 0.0783\n",
            "Epoch 6/20\n",
            "\u001b[1m98/98\u001b[0m \u001b[32m━━━━━━━━━━━━━━━━━━━━\u001b[0m\u001b[37m\u001b[0m \u001b[1m2s\u001b[0m 21ms/step - accuracy: 0.9775 - loss: 0.0618 - val_accuracy: 0.9406 - val_loss: 0.1915\n",
            "Epoch 7/20\n",
            "\u001b[1m98/98\u001b[0m \u001b[32m━━━━━━━━━━━━━━━━━━━━\u001b[0m\u001b[37m\u001b[0m \u001b[1m2s\u001b[0m 19ms/step - accuracy: 0.9707 - loss: 0.0872 - val_accuracy: 0.9687 - val_loss: 0.0979\n",
            "Epoch 8/20\n",
            "\u001b[1m98/98\u001b[0m \u001b[32m━━━━━━━━━━━━━━━━━━━━\u001b[0m\u001b[37m\u001b[0m \u001b[1m2s\u001b[0m 20ms/step - accuracy: 0.9816 - loss: 0.0587 - val_accuracy: 0.9751 - val_loss: 0.0788\n",
            "Epoch 9/20\n",
            "\u001b[1m98/98\u001b[0m \u001b[32m━━━━━━━━━━━━━━━━━━━━\u001b[0m\u001b[37m\u001b[0m \u001b[1m2s\u001b[0m 21ms/step - accuracy: 0.9817 - loss: 0.0506 - val_accuracy: 0.9802 - val_loss: 0.0721\n",
            "Epoch 10/20\n",
            "\u001b[1m98/98\u001b[0m \u001b[32m━━━━━━━━━━━━━━━━━━━━\u001b[0m\u001b[37m\u001b[0m \u001b[1m2s\u001b[0m 23ms/step - accuracy: 0.9878 - loss: 0.0415 - val_accuracy: 0.9815 - val_loss: 0.0699\n",
            "Epoch 11/20\n",
            "\u001b[1m98/98\u001b[0m \u001b[32m━━━━━━━━━━━━━━━━━━━━\u001b[0m\u001b[37m\u001b[0m \u001b[1m2s\u001b[0m 22ms/step - accuracy: 0.9883 - loss: 0.0374 - val_accuracy: 0.9777 - val_loss: 0.0809\n",
            "Epoch 12/20\n",
            "\u001b[1m98/98\u001b[0m \u001b[32m━━━━━━━━━━━━━━━━━━━━\u001b[0m\u001b[37m\u001b[0m \u001b[1m2s\u001b[0m 20ms/step - accuracy: 0.9826 - loss: 0.0452 - val_accuracy: 0.9821 - val_loss: 0.0810\n",
            "Epoch 13/20\n",
            "\u001b[1m98/98\u001b[0m \u001b[32m━━━━━━━━━━━━━━━━━━━━\u001b[0m\u001b[37m\u001b[0m \u001b[1m3s\u001b[0m 20ms/step - accuracy: 0.9931 - loss: 0.0211 - val_accuracy: 0.9738 - val_loss: 0.0922\n",
            "Epoch 14/20\n",
            "\u001b[1m98/98\u001b[0m \u001b[32m━━━━━━━━━━━━━━━━━━━━\u001b[0m\u001b[37m\u001b[0m \u001b[1m3s\u001b[0m 20ms/step - accuracy: 0.9891 - loss: 0.0325 - val_accuracy: 0.9808 - val_loss: 0.0771\n",
            "Epoch 15/20\n",
            "\u001b[1m98/98\u001b[0m \u001b[32m━━━━━━━━━━━━━━━━━━━━\u001b[0m\u001b[37m\u001b[0m \u001b[1m2s\u001b[0m 21ms/step - accuracy: 0.9945 - loss: 0.0143 - val_accuracy: 0.9808 - val_loss: 0.0816\n",
            "Epoch 16/20\n",
            "\u001b[1m98/98\u001b[0m \u001b[32m━━━━━━━━━━━━━━━━━━━━\u001b[0m\u001b[37m\u001b[0m \u001b[1m2s\u001b[0m 24ms/step - accuracy: 0.9978 - loss: 0.0101 - val_accuracy: 0.9802 - val_loss: 0.0880\n",
            "Epoch 17/20\n",
            "\u001b[1m98/98\u001b[0m \u001b[32m━━━━━━━━━━━━━━━━━━━━\u001b[0m\u001b[37m\u001b[0m \u001b[1m2s\u001b[0m 20ms/step - accuracy: 0.9968 - loss: 0.0127 - val_accuracy: 0.9783 - val_loss: 0.0943\n",
            "Epoch 18/20\n",
            "\u001b[1m98/98\u001b[0m \u001b[32m━━━━━━━━━━━━━━━━━━━━\u001b[0m\u001b[37m\u001b[0m \u001b[1m3s\u001b[0m 21ms/step - accuracy: 0.9922 - loss: 0.0240 - val_accuracy: 0.9796 - val_loss: 0.0821\n",
            "Epoch 19/20\n",
            "\u001b[1m98/98\u001b[0m \u001b[32m━━━━━━━━━━━━━━━━━━━━\u001b[0m\u001b[37m\u001b[0m \u001b[1m3s\u001b[0m 21ms/step - accuracy: 0.9970 - loss: 0.0127 - val_accuracy: 0.9783 - val_loss: 0.0755\n",
            "Epoch 20/20\n",
            "\u001b[1m98/98\u001b[0m \u001b[32m━━━━━━━━━━━━━━━━━━━━\u001b[0m\u001b[37m\u001b[0m \u001b[1m2s\u001b[0m 21ms/step - accuracy: 0.9914 - loss: 0.0235 - val_accuracy: 0.9815 - val_loss: 0.0809\n",
            "\n",
            "Training GRU Model...\n",
            "Epoch 1/20\n",
            "\u001b[1m98/98\u001b[0m \u001b[32m━━━━━━━━━━━━━━━━━━━━\u001b[0m\u001b[37m\u001b[0m \u001b[1m6s\u001b[0m 25ms/step - accuracy: 0.7247 - loss: 0.5264 - val_accuracy: 0.8953 - val_loss: 0.2326\n",
            "Epoch 2/20\n",
            "\u001b[1m98/98\u001b[0m \u001b[32m━━━━━━━━━━━━━━━━━━━━\u001b[0m\u001b[37m\u001b[0m \u001b[1m2s\u001b[0m 20ms/step - accuracy: 0.9297 - loss: 0.1880 - val_accuracy: 0.9330 - val_loss: 0.1645\n",
            "Epoch 3/20\n",
            "\u001b[1m98/98\u001b[0m \u001b[32m━━━━━━━━━━━━━━━━━━━━\u001b[0m\u001b[37m\u001b[0m \u001b[1m2s\u001b[0m 20ms/step - accuracy: 0.9566 - loss: 0.1147 - val_accuracy: 0.9330 - val_loss: 0.1820\n",
            "Epoch 4/20\n",
            "\u001b[1m98/98\u001b[0m \u001b[32m━━━━━━━━━━━━━━━━━━━━\u001b[0m\u001b[37m\u001b[0m \u001b[1m3s\u001b[0m 20ms/step - accuracy: 0.9703 - loss: 0.0947 - val_accuracy: 0.9725 - val_loss: 0.0832\n",
            "Epoch 5/20\n",
            "\u001b[1m98/98\u001b[0m \u001b[32m━━━━━━━━━━━━━━━━━━━━\u001b[0m\u001b[37m\u001b[0m \u001b[1m3s\u001b[0m 23ms/step - accuracy: 0.9751 - loss: 0.0744 - val_accuracy: 0.9547 - val_loss: 0.1586\n",
            "Epoch 6/20\n",
            "\u001b[1m98/98\u001b[0m \u001b[32m━━━━━━━━━━━━━━━━━━━━\u001b[0m\u001b[37m\u001b[0m \u001b[1m2s\u001b[0m 21ms/step - accuracy: 0.9765 - loss: 0.0663 - val_accuracy: 0.9719 - val_loss: 0.0884\n",
            "Epoch 7/20\n",
            "\u001b[1m98/98\u001b[0m \u001b[32m━━━━━━━━━━━━━━━━━━━━\u001b[0m\u001b[37m\u001b[0m \u001b[1m2s\u001b[0m 19ms/step - accuracy: 0.9856 - loss: 0.0441 - val_accuracy: 0.9725 - val_loss: 0.0658\n",
            "Epoch 8/20\n",
            "\u001b[1m98/98\u001b[0m \u001b[32m━━━━━━━━━━━━━━━━━━━━\u001b[0m\u001b[37m\u001b[0m \u001b[1m2s\u001b[0m 18ms/step - accuracy: 0.9865 - loss: 0.0398 - val_accuracy: 0.9757 - val_loss: 0.0817\n",
            "Epoch 9/20\n",
            "\u001b[1m98/98\u001b[0m \u001b[32m━━━━━━━━━━━━━━━━━━━━\u001b[0m\u001b[37m\u001b[0m \u001b[1m2s\u001b[0m 20ms/step - accuracy: 0.9866 - loss: 0.0371 - val_accuracy: 0.9725 - val_loss: 0.0824\n",
            "Epoch 10/20\n",
            "\u001b[1m98/98\u001b[0m \u001b[32m━━━━━━━━━━━━━━━━━━━━\u001b[0m\u001b[37m\u001b[0m \u001b[1m2s\u001b[0m 19ms/step - accuracy: 0.9935 - loss: 0.0228 - val_accuracy: 0.9725 - val_loss: 0.0894\n",
            "Epoch 11/20\n",
            "\u001b[1m98/98\u001b[0m \u001b[32m━━━━━━━━━━━━━━━━━━━━\u001b[0m\u001b[37m\u001b[0m \u001b[1m3s\u001b[0m 22ms/step - accuracy: 0.9926 - loss: 0.0211 - val_accuracy: 0.9732 - val_loss: 0.1114\n",
            "Epoch 12/20\n",
            "\u001b[1m98/98\u001b[0m \u001b[32m━━━━━━━━━━━━━━━━━━━━\u001b[0m\u001b[37m\u001b[0m \u001b[1m2s\u001b[0m 23ms/step - accuracy: 0.9934 - loss: 0.0197 - val_accuracy: 0.9764 - val_loss: 0.0950\n",
            "Epoch 13/20\n",
            "\u001b[1m98/98\u001b[0m \u001b[32m━━━━━━━━━━━━━━━━━━━━\u001b[0m\u001b[37m\u001b[0m \u001b[1m2s\u001b[0m 19ms/step - accuracy: 0.9960 - loss: 0.0144 - val_accuracy: 0.9777 - val_loss: 0.0993\n",
            "Epoch 14/20\n",
            "\u001b[1m98/98\u001b[0m \u001b[32m━━━━━━━━━━━━━━━━━━━━\u001b[0m\u001b[37m\u001b[0m \u001b[1m2s\u001b[0m 19ms/step - accuracy: 0.9962 - loss: 0.0130 - val_accuracy: 0.9808 - val_loss: 0.0832\n",
            "Epoch 15/20\n",
            "\u001b[1m98/98\u001b[0m \u001b[32m━━━━━━━━━━━━━━━━━━━━\u001b[0m\u001b[37m\u001b[0m \u001b[1m4s\u001b[0m 31ms/step - accuracy: 0.9957 - loss: 0.0151 - val_accuracy: 0.9789 - val_loss: 0.0976\n",
            "Epoch 16/20\n",
            "\u001b[1m98/98\u001b[0m \u001b[32m━━━━━━━━━━━━━━━━━━━━\u001b[0m\u001b[37m\u001b[0m \u001b[1m2s\u001b[0m 20ms/step - accuracy: 0.9934 - loss: 0.0150 - val_accuracy: 0.9777 - val_loss: 0.1095\n",
            "Epoch 17/20\n",
            "\u001b[1m98/98\u001b[0m \u001b[32m━━━━━━━━━━━━━━━━━━━━\u001b[0m\u001b[37m\u001b[0m \u001b[1m4s\u001b[0m 33ms/step - accuracy: 0.9959 - loss: 0.0112 - val_accuracy: 0.9808 - val_loss: 0.1078\n",
            "Epoch 18/20\n",
            "\u001b[1m98/98\u001b[0m \u001b[32m━━━━━━━━━━━━━━━━━━━━\u001b[0m\u001b[37m\u001b[0m \u001b[1m5s\u001b[0m 32ms/step - accuracy: 0.9981 - loss: 0.0055 - val_accuracy: 0.9770 - val_loss: 0.1148\n",
            "Epoch 19/20\n",
            "\u001b[1m98/98\u001b[0m \u001b[32m━━━━━━━━━━━━━━━━━━━━\u001b[0m\u001b[37m\u001b[0m \u001b[1m4s\u001b[0m 21ms/step - accuracy: 0.9985 - loss: 0.0032 - val_accuracy: 0.9828 - val_loss: 0.1024\n",
            "Epoch 20/20\n",
            "\u001b[1m98/98\u001b[0m \u001b[32m━━━━━━━━━━━━━━━━━━━━\u001b[0m\u001b[37m\u001b[0m \u001b[1m2s\u001b[0m 23ms/step - accuracy: 0.9987 - loss: 0.0030 - val_accuracy: 0.9783 - val_loss: 0.1261\n"
          ]
        }
      ],
      "source": [
        "rnn_model = build_and_train_model(\"RNN\")\n",
        "lstm_model = build_and_train_model(\"LSTM\")\n",
        "gru_model = build_and_train_model(\"GRU\")\n"
      ]
    },
    {
      "cell_type": "code",
      "execution_count": 33,
      "metadata": {
        "id": "SMbsomk_6rmk"
      },
      "outputs": [],
      "source": [
        "def evaluate_model(model, X_test, y_test, name):\n",
        "    y_pred = (model.predict(X_test) > 0.5).astype(\"int32\")\n",
        "\n",
        "    # Compute metrics\n",
        "    accuracy = accuracy_score(y_test, y_pred)\n",
        "    precision = precision_score(y_test, y_pred)\n",
        "    recall = recall_score(y_test, y_pred)\n",
        "    f1 = f1_score(y_test, y_pred)\n",
        "\n",
        "    # Print performance metrics\n",
        "    print(f\"\\n{name} Model Performance:\")\n",
        "    print(f\"Accuracy: {accuracy:.2f}\")\n",
        "    print(f\"Precision: {precision:.2f}\")\n",
        "    print(f\"Recall: {recall:.2f}\")\n",
        "    print(f\"F1 Score: {f1:.2f}\")\n",
        "    print(\"\\nClassification Report:\\n\", classification_report(y_test, y_pred))\n",
        "\n",
        "    # Compute and visualize confusion matrix\n",
        "    cm = confusion_matrix(y_test, y_pred)\n",
        "\n",
        "    plt.figure(figsize=(6,5))\n",
        "    sns.heatmap(cm, annot=True, fmt='d', cmap='Blues')\n",
        "    plt.xlabel('Predicted Label')\n",
        "    plt.ylabel('True Label')\n",
        "    plt.title(f'Confusion Matrix for {name}')\n",
        "    plt.show()\n",
        "\n",
        "    return accuracy, precision, recall, f1"
      ]
    },
    {
      "cell_type": "code",
      "source": [
        "evaluate_model(rnn_model, X_test, y_test, \"RNN\")\n",
        "evaluate_model(lstm_model, X_test, y_test, \"LSTM\")\n",
        "evaluate_model(gru_model, X_test, y_test, \"GRU\")"
      ],
      "metadata": {
        "colab": {
          "base_uri": "https://localhost:8080/",
          "height": 1000
        },
        "id": "erPMk_bMclQR",
        "outputId": "3e355460-2d48-43a2-b1f9-5e4a0537806a"
      },
      "execution_count": 34,
      "outputs": [
        {
          "output_type": "stream",
          "name": "stdout",
          "text": [
            "\u001b[1m49/49\u001b[0m \u001b[32m━━━━━━━━━━━━━━━━━━━━\u001b[0m\u001b[37m\u001b[0m \u001b[1m1s\u001b[0m 17ms/step\n",
            "\n",
            "RNN Model Performance:\n",
            "Accuracy: 0.96\n",
            "Precision: 0.94\n",
            "Recall: 0.98\n",
            "F1 Score: 0.96\n",
            "\n",
            "Classification Report:\n",
            "               precision    recall  f1-score   support\n",
            "\n",
            "           0       0.98      0.93      0.96       774\n",
            "           1       0.94      0.98      0.96       792\n",
            "\n",
            "    accuracy                           0.96      1566\n",
            "   macro avg       0.96      0.96      0.96      1566\n",
            "weighted avg       0.96      0.96      0.96      1566\n",
            "\n"
          ]
        },
        {
          "output_type": "display_data",
          "data": {
            "text/plain": [
              "<Figure size 600x500 with 2 Axes>"
            ],
            "image/png": "[encoded data removed]"
          },
          "metadata": {}
        },
        {
          "output_type": "stream",
          "name": "stdout",
          "text": [
            "\u001b[1m49/49\u001b[0m \u001b[32m━━━━━━━━━━━━━━━━━━━━\u001b[0m\u001b[37m\u001b[0m \u001b[1m1s\u001b[0m 11ms/step\n",
            "\n",
            "LSTM Model Performance:\n",
            "Accuracy: 0.98\n",
            "Precision: 0.99\n",
            "Recall: 0.98\n",
            "F1 Score: 0.98\n",
            "\n",
            "Classification Report:\n",
            "               precision    recall  f1-score   support\n",
            "\n",
            "           0       0.98      0.99      0.98       774\n",
            "           1       0.99      0.98      0.98       792\n",
            "\n",
            "    accuracy                           0.98      1566\n",
            "   macro avg       0.98      0.98      0.98      1566\n",
            "weighted avg       0.98      0.98      0.98      1566\n",
            "\n"
          ]
        },
        {
          "output_type": "display_data",
          "data": {
            "text/plain": [
              "<Figure size 600x500 with 2 Axes>"
            ],
            "image/png": "[encoded data removed]"
          },
          "metadata": {}
        },
        {
          "output_type": "stream",
          "name": "stdout",
          "text": [
            "\u001b[1m49/49\u001b[0m \u001b[32m━━━━━━━━━━━━━━━━━━━━\u001b[0m\u001b[37m\u001b[0m \u001b[1m1s\u001b[0m 10ms/step\n",
            "\n",
            "GRU Model Performance:\n",
            "Accuracy: 0.98\n",
            "Precision: 0.99\n",
            "Recall: 0.97\n",
            "F1 Score: 0.98\n",
            "\n",
            "Classification Report:\n",
            "               precision    recall  f1-score   support\n",
            "\n",
            "           0       0.97      0.99      0.98       774\n",
            "           1       0.99      0.97      0.98       792\n",
            "\n",
            "    accuracy                           0.98      1566\n",
            "   macro avg       0.98      0.98      0.98      1566\n",
            "weighted avg       0.98      0.98      0.98      1566\n",
            "\n"
          ]
        },
        {
          "output_type": "display_data",
          "data": {
            "text/plain": [
              "<Figure size 600x500 with 2 Axes>"
            ],
            "image/png": "[encoded data removed]"
          },
          "metadata": {}
        },
        {
          "output_type": "execute_result",
          "data": {
            "text/plain": [
              "(0.9782886334610472,\n",
              " 0.9884020618556701,\n",
              " 0.9684343434343434,\n",
              " 0.9783163265306123)"
            ]
          },
          "metadata": {},
          "execution_count": 34
        }
      ]
    }
  ],
  "metadata": {
    "colab": {
      "provenance": [],
      "gpuType": "T4"
    },
    "kernelspec": {
      "display_name": "Python 3",
      "name": "python3"
    },
    "language_info": {
      "name": "python"
    },
    "accelerator": "GPU"
  },
  "nbformat": 4,
  "nbformat_minor": 0
}